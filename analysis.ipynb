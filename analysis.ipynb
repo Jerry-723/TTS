{
 "cells": [
  {
   "cell_type": "code",
   "execution_count": 19,
   "metadata": {},
   "outputs": [
    {
     "name": "stdout",
     "output_type": "stream",
     "text": [
      "Accuracy: 0.8218347232752085\n"
     ]
    }
   ],
   "source": [
    "import json\n",
    "import numpy as np\n",
    "model = \"s1.1-3B\"\n",
    "dataset = \"gsm8k\"\n",
    "\n",
    "with open(f\"outputs_exp/{model}_{dataset}_nodup_withans.jsonl\", \"r\", encoding=\"utf-8\") as f:\n",
    "    lines = f.readlines()\n",
    "    flags = [json.loads(line)[\"flag\"] for line in lines]\n",
    "    acc = [flag==\"Correct\" for flag in flags]\n",
    "    ground_truths = [json.loads(line)[\"ground_truth\"] for line in lines]\n",
    "    final_answers = [json.loads(line)[\"final_answer\"] for line in lines]\n",
    "    print(f\"Accuracy: {np.mean(acc)}\")\n",
    "    # for f, g, a in zip(flags, ground_truths, final_answers):\n",
    "    #     if f == \"Wrong\":\n",
    "    #         print(f\"Ground truth: {g} Final answer: {a}\")"
   ]
  },
  {
   "cell_type": "code",
   "execution_count": 3,
   "metadata": {},
   "outputs": [
    {
     "name": "stdout",
     "output_type": "stream",
     "text": [
      "Accuracy: 0.8703563305534496, Token saved: 0.7158377282679566\n",
      "Accuracy: 0.8817285822592873, Token saved: 0.7236185294580296\n"
     ]
    }
   ],
   "source": [
    "import json\n",
    "import numpy as np\n",
    "model = \"s1.1-3B\"\n",
    "dataset = \"gsm8k\"\n",
    "\n",
    "with open(f\"outputs_exp/{model}_{dataset}_min_tokens_rough.jsonl\", \"r\", encoding=\"utf-8\") as f:\n",
    "    lines = f.readlines()\n",
    "    ground_truth = [json.loads(l)[\"ground_truth\"] for l in lines]\n",
    "    generated_answer = [json.loads(l)[\"generated_answer\"] for l in lines]\n",
    "    thinking_budget = [json.loads(l)[\"thinking_budget\"] for l in lines]\n",
    "    token_used = [json.loads(l)[\"token_used\"] for l in lines]\n",
    "    token_used = [tb if tb < tu else tu for tb, tu in zip(thinking_budget, token_used)]\n",
    "    acc = [tb>tu for tb, tu in zip(thinking_budget, token_used)]\n",
    "    token_saved = [(tb-tu)/tb for tb, tu in zip(thinking_budget, token_used)]\n",
    "    print(f\"Accuracy: {np.mean(acc)}, Token saved: {np.mean(token_saved)}\")\n",
    "\n",
    "with open(f\"outputs_exp/{model}_{dataset}_min_tokens_fixed.jsonl\", \"r\", encoding=\"utf-8\") as f:\n",
    "    lines = f.readlines()\n",
    "    ground_truth = [json.loads(l)[\"ground_truth\"] for l in lines]\n",
    "    generated_answer = [json.loads(l)[\"generated_answer\"] for l in lines]\n",
    "    thinking_budget = [json.loads(l)[\"thinking_budget\"] for l in lines]\n",
    "    token_used = [tb if tb < tu else tu for tb, tu in zip(thinking_budget, token_used)]\n",
    "    flags = [json.loads(l)[\"flag\"] for l in lines]\n",
    "    acc = [flag==\"Correct\" for flag in flags]\n",
    "    token_saved = [(tb-tu)/tb for tb, tu in zip(thinking_budget, token_used)]\n",
    "    print(f\"Accuracy: {np.mean(acc)}, Token saved: {np.mean(token_saved)}\")"
   ]
  },
  {
   "cell_type": "code",
   "execution_count": 4,
   "metadata": {},
   "outputs": [
    {
     "name": "stdout",
     "output_type": "stream",
     "text": [
      "Accuracy: 0.9393479909021987, Token saved: 0.8425920827898392\n",
      "Accuracy: 0.9514783927217589, Token saved: 0.8544029591051484\n"
     ]
    }
   ],
   "source": [
    "import json\n",
    "import numpy as np\n",
    "model = \"s1.1-7B\"\n",
    "dataset = \"gsm8k\"\n",
    "\n",
    "with open(f\"outputs_exp/{model}_{dataset}_min_tokens_rough.jsonl\", \"r\", encoding=\"utf-8\") as f:\n",
    "    lines = f.readlines()\n",
    "    ground_truth = [json.loads(l)[\"ground_truth\"] for l in lines]\n",
    "    generated_answer = [json.loads(l)[\"generated_answer\"] for l in lines]\n",
    "    thinking_budget = [json.loads(l)[\"thinking_budget\"] for l in lines]\n",
    "    token_used = [json.loads(l)[\"token_used\"] for l in lines]\n",
    "    token_used = [tb if tb < tu else tu for tb, tu in zip(thinking_budget, token_used)]\n",
    "    acc = [tb>tu for tb, tu in zip(thinking_budget, token_used)]\n",
    "    token_saved = [(tb-tu)/tb for tb, tu in zip(thinking_budget, token_used)]\n",
    "    print(f\"Accuracy: {np.mean(acc)}, Token saved: {np.mean(token_saved)}\")\n",
    "\n",
    "with open(f\"outputs_exp/{model}_{dataset}_min_tokens_fixed.jsonl\", \"r\", encoding=\"utf-8\") as f:\n",
    "    lines = f.readlines()\n",
    "    ground_truth = [json.loads(l)[\"ground_truth\"] for l in lines]\n",
    "    generated_answer = [json.loads(l)[\"generated_answer\"] for l in lines]\n",
    "    thinking_budget = [json.loads(l)[\"thinking_budget\"] for l in lines]\n",
    "    token_used = [json.loads(l)[\"token_used\"] for l in lines]\n",
    "    token_used = [tb if tb < tu else tu for tb, tu in zip(thinking_budget, token_used)]\n",
    "    flags = [json.loads(l)[\"flag\"] for l in lines]\n",
    "    acc = [flag==\"Correct\" for flag in flags]\n",
    "    token_saved = [(tb-tu)/tb for tb, tu in zip(thinking_budget, token_used)]\n",
    "    print(f\"Accuracy: {np.mean(acc)}, Token saved: {np.mean(token_saved)}\")"
   ]
  },
  {
   "cell_type": "code",
   "execution_count": 5,
   "metadata": {},
   "outputs": [
    {
     "name": "stdout",
     "output_type": "stream",
     "text": [
      "Accuracy: 0.954510993176649, Token saved: 0.8827699638981282\n",
      "Accuracy: 0.9681576952236542, Token saved: 0.8974796935696548\n"
     ]
    }
   ],
   "source": [
    "import json\n",
    "import numpy as np\n",
    "model = \"s1.1-14B\"\n",
    "dataset = \"gsm8k\"\n",
    "\n",
    "with open(f\"outputs_exp/{model}_{dataset}_min_tokens_rough.jsonl\", \"r\", encoding=\"utf-8\") as f:\n",
    "    lines = f.readlines()\n",
    "    ground_truth = [json.loads(l)[\"ground_truth\"] for l in lines]\n",
    "    generated_answer = [json.loads(l)[\"generated_answer\"] for l in lines]\n",
    "    thinking_budget = [json.loads(l)[\"thinking_budget\"] for l in lines]\n",
    "    token_used = [json.loads(l)[\"token_used\"] for l in lines]\n",
    "    token_used = [tb if tb < tu else tu for tb, tu in zip(thinking_budget, token_used)]\n",
    "    acc = [tb>tu for tb, tu in zip(thinking_budget, token_used)]\n",
    "    token_saved = [(tb-tu)/tb for tb, tu in zip(thinking_budget, token_used)]\n",
    "    print(f\"Accuracy: {np.mean(acc)}, Token saved: {np.mean(token_saved)}\")\n",
    "\n",
    "with open(f\"outputs_exp/{model}_{dataset}_min_tokens_fixed.jsonl\", \"r\", encoding=\"utf-8\") as f:\n",
    "    lines = f.readlines()\n",
    "    ground_truth = [json.loads(l)[\"ground_truth\"] for l in lines]\n",
    "    generated_answer = [json.loads(l)[\"generated_answer\"] for l in lines]\n",
    "    thinking_budget = [json.loads(l)[\"thinking_budget\"] for l in lines]\n",
    "    token_used = [json.loads(l)[\"token_used\"] for l in lines]\n",
    "    token_used = [tb if tb < tu else tu for tb, tu in zip(thinking_budget, token_used)]\n",
    "    flags = [json.loads(l)[\"flag\"] for l in lines]\n",
    "    acc = [flag==\"Correct\" for flag in flags]\n",
    "    token_saved = [(tb-tu)/tb for tb, tu in zip(thinking_budget, token_used)]\n",
    "    print(f\"Accuracy: {np.mean(acc)}, Token saved: {np.mean(token_saved)}\")"
   ]
  },
  {
   "cell_type": "code",
   "execution_count": null,
   "metadata": {},
   "outputs": [],
   "source": [
    "import json\n",
    "with open(f\"outputs_exp/s1.1-3B_math500_min_tokens_fixed.jsonl\", \"r\", encoding=\"utf-8\") as f:\n",
    "    lines = f.readlines()\n",
    "    questions = [json.loads(l)[\"question\"] for l in lines]\n",
    "    ground_truth = [json.loads(l)[\"ground_truth\"] for l in lines]\n",
    "    generated_answer = [json.loads(l)[\"generated_answer\"] for l in lines]\n",
    "    thinking_budget = [json.loads(l)[\"thinking_budget\"] for l in lines]\n",
    "    token_used = [json.loads(l)[\"token_used\"] for l in lines]\n",
    "    answer_trace = [json.loads(l)[\"answer_trace\"] for l in lines]\n",
    "    flags = [json.loads(l)[\"flag\"] for l in lines]\n",
    "    for q, gt, gen, tb, tu, at, f in zip(questions, ground_truth, generated_answer, thinking_budget, token_used, answer_trace, flags):\n",
    "        if f==\"Wrong\":\n",
    "            print(f\"Ground truth: {gt}, Generate answer: {gen}\")"
   ]
  },
  {
   "cell_type": "markdown",
   "metadata": {},
   "source": [
    "---"
   ]
  },
  {
   "cell_type": "code",
   "execution_count": 1,
   "metadata": {},
   "outputs": [],
   "source": [
    "import json\n",
    "\n",
    "with open(f\"outputs_exp/s1.1-3B_math500_fulltrace_withrange.jsonl\", \"r\", encoding=\"utf-8\") as f:\n",
    "    lines = f.readlines()\n",
    "    questions = [json.loads(l)[\"question\"] for l in lines]\n",
    "    ground_truth = [json.loads(l)[\"ground_truth\"] for l in lines]\n",
    "    correct_indexs = [json.loads(l)[\"correct_index\"] for l in lines]\n",
    "    thinking_budgets = [json.loads(l)[\"thinking_budget\"] for l in lines]\n",
    "    token_useds = [json.loads(l)[\"token_used\"] for l in lines]\n",
    "    flags = [json.loads(l)[\"flag\"] for l in lines]"
   ]
  },
  {
   "cell_type": "code",
   "execution_count": 2,
   "metadata": {},
   "outputs": [],
   "source": [
    "import pickle\n",
    "\n",
    "with open(f\"outputs_exp/s1.1-3B_math500_ppl.pkl\", \"rb\") as f:\n",
    "    ppls = pickle.load(f)"
   ]
  },
  {
   "cell_type": "code",
   "execution_count": 3,
   "metadata": {},
   "outputs": [
    {
     "data": {
      "text/plain": [
       "'How many elements are in the intersection of the set of all the prime numbers less than 30 and the set of all the odd numbers greater than zero?'"
      ]
     },
     "execution_count": 3,
     "metadata": {},
     "output_type": "execute_result"
    }
   ],
   "source": [
    "questions[11]"
   ]
  },
  {
   "cell_type": "code",
   "execution_count": 23,
   "metadata": {},
   "outputs": [
    {
     "data": {
      "image/png": "[encoded data removed]",
      "text/plain": [
       "<Figure size 1000x600 with 1 Axes>"
      ]
     },
     "metadata": {},
     "output_type": "display_data"
    }
   ],
   "source": [
    "import matplotlib.pyplot as plt\n",
    "\n",
    "q_index = 11\n",
    "dic = ppls[questions[q_index]]\n",
    "resp_start = dic['resp_start']\n",
    "ppl = dic['ppl']\n",
    "\n",
    "cumulative_tokens = list(range(1, (thinking_budgets[q_index]+1)))\n",
    "plt.figure(figsize=(10,6))\n",
    "plt.scatter(cumulative_tokens, ppl[resp_start:], marker='o', s=10, color='blue', label=\"ppl score\")\n",
    "x_value = correct_indexs[q_index][0] * 100 if correct_indexs[q_index] != [] else 10000\n",
    "plt.axvline(x=x_value, color=\"red\", linestyle='--', label=f\"minimum tokens to correct\")\n",
    "\n",
    "plt.title('PPL vs Cumulative response thinking tokens')\n",
    "plt.xlabel('Cumulative response thinking tokens')\n",
    "plt.ylabel('PPL')\n",
    "\n",
    "plt.grid(True)\n",
    "\n",
    "plt.legend()\n",
    "plt.show()"
   ]
  },
  {
   "cell_type": "markdown",
   "metadata": {},
   "source": [
    "---"
   ]
  },
  {
   "cell_type": "code",
   "execution_count": 24,
   "metadata": {},
   "outputs": [],
   "source": [
    "import json\n",
    "\n",
    "with open(f\"outputs_exp/s1.1-3B_math500_fulltrace_withrange.jsonl\", \"r\", encoding=\"utf-8\") as f:\n",
    "    lines = f.readlines()\n",
    "    questions = [json.loads(l)[\"question\"] for l in lines]\n",
    "    flags = [json.loads(l)[\"flag\"] for l in lines]\n",
    "    correct_indexs = [json.loads(l)[\"correct_index\"] for l in lines]"
   ]
  },
  {
   "cell_type": "code",
   "execution_count": 2,
   "metadata": {},
   "outputs": [],
   "source": [
    "def is_continuous(lst):\n",
    "    count = 1\n",
    "    start_index = 0\n",
    "    for i in range(1,len(lst)):\n",
    "        if lst[i] == lst[i-1]+1:\n",
    "            if count == 1:\n",
    "                start_index = i - 1\n",
    "            count += 1\n",
    "            if count >= 5:\n",
    "                return lst[start_index]\n",
    "        else:   \n",
    "            count = 1\n",
    "    return -1\n",
    "results = [is_continuous(c)!=-1 for c in correct_indexs]\n",
    "count = 0\n",
    "continuous = 0\n",
    "for i, flag in enumerate(flags):\n",
    "    if flag == \"Correct\":\n",
    "        count += 1\n",
    "        if results[i]:\n",
    "            continuous += 1"
   ]
  },
  {
   "cell_type": "code",
   "execution_count": 25,
   "metadata": {},
   "outputs": [],
   "source": [
    "import pickle\n",
    "\n",
    "with open(f\"outputs_exp/s1.1-3B_math500_ppl.pkl\", \"rb\") as f:\n",
    "    ppls = pickle.load(f)"
   ]
  },
  {
   "cell_type": "code",
   "execution_count": 5,
   "metadata": {},
   "outputs": [
    {
     "data": {
      "text/plain": [
       "'In the diagram, what is the area of the shaded triangle? [asy]\\nfill((0,0)--(2,3)--(10,0)--cycle,gray);\\ndraw((0,0)--(10,0)--(10,3)--(0,3)--cycle,linewidth(1));\\ndraw((0,0)--(2,3)--(10,0),linewidth(1));\\nlabel(\"10 cm\",(5,3),N);\\nlabel(\"10 cm\",(5,0),S);\\nlabel(\"3 cm\",(0,1.5),W);\\nlabel(\"3 cm\",(10,1.5),E);\\ndraw((0,2.5)--(.5,2.5)--(.5,3));\\ndraw((10,2.5)--(9.5,2.5)--(9.5,3));\\n[/asy]'"
      ]
     },
     "execution_count": 5,
     "metadata": {},
     "output_type": "execute_result"
    }
   ],
   "source": [
    "questions[0]"
   ]
  },
  {
   "cell_type": "code",
   "execution_count": 7,
   "metadata": {},
   "outputs": [
    {
     "data": {
      "text/plain": [
       "2542"
      ]
     },
     "execution_count": 7,
     "metadata": {},
     "output_type": "execute_result"
    }
   ],
   "source": [
    "len(ppls[questions[0]]['ppl']) - ppls[questions[0]]['resp_start']"
   ]
  },
  {
   "cell_type": "code",
   "execution_count": 11,
   "metadata": {},
   "outputs": [
    {
     "data": {
      "text/plain": [
       "8"
      ]
     },
     "execution_count": 11,
     "metadata": {},
     "output_type": "execute_result"
    }
   ],
   "source": [
    "correct_indexs[0]\n",
    "is_continuous(correct_indexs[0])"
   ]
  },
  {
   "cell_type": "code",
   "execution_count": null,
   "metadata": {},
   "outputs": [],
   "source": [
    "ks = []\n",
    "\n",
    "for i, q in enumerate(questions):\n",
    "    if flags[i] == \"Correct\":\n",
    "        if results[i]:\n",
    "            ppl = ppls[q]['ppl']\n",
    "            resp_start = ppls[q]['resp_start']\n",
    "            k_start = resp_start + is_continuous(correct_indexs[i])*100\n",
    "            # if k_start + 400 > len(ppl):\n",
    "            #     print(len(ppl) - resp_start)\n",
    "            #     print(q, k_start)\n",
    "            k = ppl[k_start] - ppl[k_start+400]\n",
    "            ks.append(k)"
   ]
  },
  {
   "cell_type": "code",
   "execution_count": 29,
   "metadata": {},
   "outputs": [],
   "source": [
    "ks = []\n",
    "\n",
    "for i, q in enumerate(questions):\n",
    "    if flags[i] == \"Correct\":\n",
    "        ppl = ppls[q]['ppl']\n",
    "        resp_start = ppls[q]['resp_start']\n",
    "        k_start = resp_start + correct_indexs[i][0] * 100\n",
    "        k = (ppl[k_start] - ppl[k_start-100])/100\n",
    "        ks.append(k)"
   ]
  },
  {
   "cell_type": "code",
   "execution_count": 31,
   "metadata": {},
   "outputs": [
    {
     "data": {
      "image/png": "[encoded data removed]",
      "text/plain": [
       "<Figure size 1000x600 with 1 Axes>"
      ]
     },
     "metadata": {},
     "output_type": "display_data"
    }
   ],
   "source": [
    "import matplotlib.pyplot as plt\n",
    "\n",
    "# 绘制直方图\n",
    "plt.figure(figsize=(10, 6))\n",
    "plt.hist(ks, bins=30, color=\"lightblue\",edgecolor=\"black\", alpha=0.7)\n",
    "plt.title(\"Distribution of ks\")\n",
    "plt.xlabel(\"k values\")\n",
    "plt.ylabel(\"Frequency\")\n",
    "plt.grid(True)\n",
    "plt.show()"
   ]
  },
  {
   "cell_type": "code",
   "execution_count": 3,
   "metadata": {},
   "outputs": [
    {
     "data": {
      "text/plain": [
       "(344, 378)"
      ]
     },
     "execution_count": 3,
     "metadata": {},
     "output_type": "execute_result"
    }
   ],
   "source": [
    "continuous, count"
   ]
  },
  {
   "cell_type": "code",
   "execution_count": 4,
   "metadata": {},
   "outputs": [
    {
     "data": {
      "text/plain": [
       "0.9689158453373768"
      ]
     },
     "execution_count": 4,
     "metadata": {},
     "output_type": "execute_result"
    }
   ],
   "source": [
    "1278/1319"
   ]
  }
 ],
 "metadata": {
  "kernelspec": {
   "display_name": "Python 3",
   "language": "python",
   "name": "python3"
  },
  "language_info": {
   "codemirror_mode": {
    "name": "ipython",
    "version": 3
   },
   "file_extension": ".py",
   "mimetype": "text/x-python",
   "name": "python",
   "nbconvert_exporter": "python",
   "pygments_lexer": "ipython3",
   "version": "3.10.16"
  }
 },
 "nbformat": 4,
 "nbformat_minor": 2
}
